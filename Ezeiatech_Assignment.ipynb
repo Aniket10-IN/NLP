{
  "nbformat": 4,
  "nbformat_minor": 0,
  "metadata": {
    "colab": {
      "name": "Ezeiatech_Assignment.ipynb",
      "provenance": []
    },
    "kernelspec": {
      "name": "python3",
      "display_name": "Python 3"
    },
    "language_info": {
      "name": "python"
    }
  },
  "cells": [
    {
      "cell_type": "markdown",
      "metadata": {
        "id": "E5mSK59N4kiW"
      },
      "source": [
        "### Hello Team Ezeiatech/Odio, Thanks for giving me the opportunity to work on the project, I had good time doing it, I learnt a lot and bagged some additional tools to my NLP knowledge. "
      ]
    },
    {
      "cell_type": "markdown",
      "metadata": {
        "id": "KdcYXYu05hsd"
      },
      "source": [
        ">Assuming that I have to extract keyphrases from the sentence, specify location and brands if specified I have precedded to reach outcome. Also, I have taken help from the article : https://towardsdatascience.com/keyword-extraction-with-bert-724efca412ea"
      ]
    },
    {
      "cell_type": "code",
      "metadata": {
        "id": "sWqtMi4yyqi2"
      },
      "source": [
        "# importing KeyBErt model\n",
        "from keybert import KeyBERT\n",
        "kw_model = KeyBERT()\n",
        "doc = 'I want to buy some groceries.'\n",
        "\n",
        "keywords = kw_model.extract_keywords(doc)"
      ],
      "execution_count": 4,
      "outputs": []
    },
    {
      "cell_type": "code",
      "metadata": {
        "id": "etx4KRcjzSHZ"
      },
      "source": [
        "# Function to extract Keywords\n",
        "def key_word(doc):\n",
        "  Key_Words = kw_model.extract_keywords(doc, keyphrase_ngram_range=(1, 3), stop_words='english', \n",
        "                              use_mmr=True, diversity=0.7)\n",
        "  if None:\n",
        "    pass\n",
        "  else:\n",
        "    return Key_Words[:2]"
      ],
      "execution_count": 19,
      "outputs": []
    },
    {
      "cell_type": "code",
      "metadata": {
        "colab": {
          "base_uri": "https://localhost:8080/"
        },
        "id": "tU1wMaOI0LoX",
        "outputId": "4157b26f-8881-46b0-daa3-27f23bc8e72d"
      },
      "source": [
        "key_word(' I want to buy some groceries.')"
      ],
      "execution_count": 20,
      "outputs": [
        {
          "output_type": "execute_result",
          "data": {
            "text/plain": [
              "[('want buy groceries', 0.9251), ('want', 0.1972)]"
            ]
          },
          "metadata": {},
          "execution_count": 20
        }
      ]
    },
    {
      "cell_type": "code",
      "metadata": {
        "id": "oOc_01qY0TfA"
      },
      "source": [
        "#pip install spacy[transformers]\n"
      ],
      "execution_count": 11,
      "outputs": []
    },
    {
      "cell_type": "code",
      "metadata": {
        "id": "luifPUhc0hjR"
      },
      "source": [
        "#!pip install spacy-nightly --pre\n",
        "#!python -m spacy download en_core_web_trf"
      ],
      "execution_count": 12,
      "outputs": []
    },
    {
      "cell_type": "code",
      "metadata": {
        "id": "IUeJzLM80sr9"
      },
      "source": [
        "import spacy\n",
        "from spacy import displacy\n",
        "nlp = spacy.load('en_core_web_trf')"
      ],
      "execution_count": 1,
      "outputs": []
    },
    {
      "cell_type": "code",
      "metadata": {
        "id": "bTHAUent1ScH"
      },
      "source": [
        "#Obtain Entities\n",
        "def Entities(doc):\n",
        "    entities = []\n",
        "    labels = []\n",
        "    for ent in doc.ents:\n",
        "        entities.append(ent)\n",
        "        labels.append(ent.label_)\n",
        "        \n",
        "    return (entities, labels)"
      ],
      "execution_count": 2,
      "outputs": []
    },
    {
      "cell_type": "code",
      "metadata": {
        "colab": {
          "base_uri": "https://localhost:8080/"
        },
        "id": "uDhjWSY22TBi",
        "outputId": "06fb1189-3760-4cb0-9499-345ac2bc068d"
      },
      "source": [
        "doc = nlp('Java training centers in Noida Sector 15')\n",
        "Entities(doc)"
      ],
      "execution_count": 5,
      "outputs": [
        {
          "output_type": "execute_result",
          "data": {
            "text/plain": [
              "([Noida Sector 15], ['LOC'])"
            ]
          },
          "metadata": {},
          "execution_count": 5
        }
      ]
    },
    {
      "cell_type": "code",
      "metadata": {
        "id": "vd8wIvep22jk"
      },
      "source": [
        "#merge keyword and Entites to get one outcome\n",
        "def intent_of_sent(doc, docs):\n",
        "  return (Entities(doc), key_word(docs))"
      ],
      "execution_count": 6,
      "outputs": []
    },
    {
      "cell_type": "markdown",
      "metadata": {
        "id": "c6Qvsh9O7MFa"
      },
      "source": [
        "**Here are few examples taken from the reference problems in Assignment**"
      ]
    },
    {
      "cell_type": "code",
      "metadata": {
        "colab": {
          "base_uri": "https://localhost:8080/"
        },
        "id": "lu7o_2-F28TF",
        "outputId": "872623cb-ce0b-4c3e-8c6c-a2b2d5eb36a4"
      },
      "source": [
        "doc = nlp('Adidas stores in CP')\n",
        "docs = 'Adidas stores in CP'\n",
        "\n",
        "intent_of_sent(doc, docs)"
      ],
      "execution_count": 10,
      "outputs": [
        {
          "output_type": "execute_result",
          "data": {
            "text/plain": [
              "(([Adidas, CP], ['ORG', 'GPE']), ('adidas stores cp', 0.9712))"
            ]
          },
          "metadata": {},
          "execution_count": 10
        }
      ]
    },
    {
      "cell_type": "code",
      "metadata": {
        "colab": {
          "base_uri": "https://localhost:8080/"
        },
        "id": "JflGDdxc2-93",
        "outputId": "8b7c6c6e-76c7-4b34-f7ff-736c0c946411"
      },
      "source": [
        "doc = nlp('I have lost my wallet, need to lodge a complaint.')\n",
        "docs = 'I have lost my wallet, need to lodge a complaint.'\n",
        "\n",
        "intent_of_sent(doc, docs)"
      ],
      "execution_count": 21,
      "outputs": [
        {
          "output_type": "execute_result",
          "data": {
            "text/plain": [
              "(([], []), [('lost wallet', 0.7342), ('lodge complaint', 0.3209)])"
            ]
          },
          "metadata": {},
          "execution_count": 21
        }
      ]
    },
    {
      "cell_type": "code",
      "metadata": {
        "colab": {
          "base_uri": "https://localhost:8080/"
        },
        "id": "KwtKFVt660ov",
        "outputId": "f8f391e6-105f-4e2b-b478-478a7fd91cf1"
      },
      "source": [
        "doc = nlp(' Laptop sellers near Kalkaji')\n",
        "docs = ' Laptop sellers near Kalkaji'\n",
        "\n",
        "intent_of_sent(doc, docs)"
      ],
      "execution_count": 22,
      "outputs": [
        {
          "output_type": "execute_result",
          "data": {
            "text/plain": [
              "(([Kalkaji], ['GPE']), [('laptop sellers near', 0.8096), ('kalkaji', 0.5435)])"
            ]
          },
          "metadata": {},
          "execution_count": 22
        }
      ]
    },
    {
      "cell_type": "markdown",
      "metadata": {
        "id": "2CL2Ifzw7mA5"
      },
      "source": [
        "### Thank You"
      ]
    }
  ]
}