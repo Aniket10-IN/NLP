{
 "cells": [
  {
   "cell_type": "code",
   "execution_count": 1,
   "id": "62c570d0",
   "metadata": {},
   "outputs": [],
   "source": [
    "import pandas as pd\n",
    "import numpy as np\n",
    "from bs4 import BeautifulSoup\n",
    "import requests"
   ]
  },
  {
   "cell_type": "code",
   "execution_count": 2,
   "id": "bfa66f60",
   "metadata": {},
   "outputs": [],
   "source": [
    "source = requests.get('https://ec.europa.eu/programmes/horizon2020/en/h2020-section/information-and-communication-technologies').text"
   ]
  },
  {
   "cell_type": "code",
   "execution_count": 3,
   "id": "03ebd638",
   "metadata": {},
   "outputs": [],
   "source": [
    "import lxml\n",
    "soup = BeautifulSoup(source, 'lxml')"
   ]
  },
  {
   "cell_type": "markdown",
   "id": "afa68925",
   "metadata": {},
   "source": [
    "### Body_data"
   ]
  },
  {
   "cell_type": "code",
   "execution_count": 5,
   "id": "53cbf3a0",
   "metadata": {},
   "outputs": [
    {
     "data": {
      "text/plain": [
       "[<p>The potential and capabilities of modern ICT systems are still growing exponentially fuelled by the progress in electronics, microsystems, networking, the ability to master increasingly complex cyber-physical systems and robots, and progress in data processing and human machine interfaces. These developments provide major opportunities for Europe to develop the next generation of open platforms on top of which a multiplicity of innovative devices, systems and applications can be implemented.</p>,\n",
       " <p>These new solutions will enable a wealth of new business developments in particular for SMEs, and will contribute to boosting competitiveness, creating jobs and supporting growth.</p>,\n",
       " <p>The first ICT-Leadership in Enabling and Industrial Technologies (LEIT) Work Programme under H2020 provides a balanced response to the main challenges faced by Europe in the field: firstly, the need to maintain a strong expertise in key technology value chains; secondly, the necessity to move quicker from research excellence to the market.</p>,\n",
       " <p>It combines a strong support to industrial roadmaps with new mechanisms to encourage disruptive innovation. The former will reinforce medium to long term commitment to industrial strategies and provide continuity and stability. The latter will offer flexibility and openness and will help develop dynamic eco-systems in which innovators can operate. Both strands will require the involvement of new actors, on one hand to exploit and leverage new technologies and on the other to initiate and drive change.</p>,\n",
       " <p>Six main activity lines have been identified in the ICT-LEIT part of the Work Programme:</p>,\n",
       " <p>In addition, the Work Programme features several cross-cutting topics addressing cyber-security, Internet of Things and research on a Human-centric Digital Age. All activities are complemented with support to innovation and take-up, international cooperation and a dedicated action for SMEs to propose bottom-up innovative ideas, using the SME instrument.</p>,\n",
       " <p class=\"footer__label\">Contact &amp; help</p>,\n",
       " <p class=\"footer__label\">Related links</p>]"
      ]
     },
     "execution_count": 5,
     "metadata": {},
     "output_type": "execute_result"
    }
   ],
   "source": [
    "paragraphs = soup.find_all('p')\n",
    "paragraphs"
   ]
  },
  {
   "cell_type": "code",
   "execution_count": 6,
   "id": "d81a8d98",
   "metadata": {},
   "outputs": [],
   "source": [
    "my_list = []\n",
    "for paragraph in paragraphs:\n",
    "    para = paragraph.get_text()\n",
    "    my_list.append(para)"
   ]
  },
  {
   "cell_type": "code",
   "execution_count": 7,
   "id": "9ffee635",
   "metadata": {},
   "outputs": [
    {
     "data": {
      "text/plain": [
       "'The potential and capabilities of modern ICT systems are still growing exponentially fuelled by the progress in electronics, microsystems, networking, the ability to master increasingly complex cyber-physical systems and robots, and progress in data processing and human machine interfaces. These developments provide major opportunities for Europe to develop the next generation of open platforms on top of which a multiplicity of innovative devices, systems and applications can be implemented. These new solutions will enable a wealth of new business developments in particular for SMEs, and will contribute to boosting competitiveness, creating jobs and supporting growth. The first ICT-Leadership in Enabling and Industrial\\xa0Technologies (LEIT)\\xa0Work Programme under H2020 provides a balanced response to the main challenges faced by Europe in the field: firstly, the need to maintain a strong expertise in key technology value chains; secondly, the necessity to move quicker from research excellence to the market. It combines a strong support to industrial roadmaps with new mechanisms to encourage disruptive innovation. The former will reinforce medium to long term commitment to industrial strategies and provide continuity and stability. The latter will offer flexibility and openness and will help develop dynamic eco-systems in which innovators can operate. Both strands will require the involvement of new actors, on one hand to exploit and leverage new technologies and on the other to initiate and drive change. Six main activity lines have been identified in the ICT-LEIT part of the Work Programme: In addition, the Work Programme features several cross-cutting topics addressing cyber-security, Internet of Things and research on a Human-centric Digital Age. All activities are complemented with support to innovation and take-up, international cooperation and a dedicated action for SMEs to propose bottom-up innovative ideas, using the SME instrument. Contact & help Related links'"
      ]
     },
     "execution_count": 7,
     "metadata": {},
     "output_type": "execute_result"
    }
   ],
   "source": [
    "para_data =  ' '.join([str(elem) for elem in my_list])\n",
    "para_data"
   ]
  },
  {
   "cell_type": "markdown",
   "id": "38592c81",
   "metadata": {},
   "source": [
    "### Sections"
   ]
  },
  {
   "cell_type": "code",
   "execution_count": 9,
   "id": "456b4363",
   "metadata": {},
   "outputs": [
    {
     "data": {
      "text/plain": [
       "[<span class=\"field-content\"><a href=\"/programmes/horizon2020/en/h2020-section/photonics\">Photonics</a></span>,\n",
       " <span class=\"field-content\"><a href=\"/programmes/horizon2020/en/h2020-section/micro-and-nanoelectronics\">Micro- and Nanoelectronics </a></span>,\n",
       " <span class=\"field-content\"><a href=\"/programmes/horizon2020/en/h2020-section/content-technologies-and-information-management-0\">Content Technologies and Information Management </a></span>,\n",
       " <span class=\"field-content\"><a href=\"/programmes/horizon2020/en/h2020-section/new-generation-components-and-systems\">A new generation of components and systems</a></span>,\n",
       " <span class=\"field-content\"><a href=\"/programmes/horizon2020/en/h2020-section/advanced-computing\">Advanced Computing </a></span>,\n",
       " <span class=\"field-content\"><a href=\"/programmes/horizon2020/en/h2020-section/future-internet\">Future Internet</a></span>,\n",
       " <span class=\"field-content\"><a href=\"/programmes/horizon2020/en/h2020-section/robotics\">Robotics</a></span>]"
      ]
     },
     "execution_count": 9,
     "metadata": {},
     "output_type": "execute_result"
    }
   ],
   "source": [
    "left_article = soup.find_all('span', class_ = 'field-content')\n",
    "left_article"
   ]
  },
  {
   "cell_type": "code",
   "execution_count": 10,
   "id": "148c4c52",
   "metadata": {},
   "outputs": [
    {
     "name": "stdout",
     "output_type": "stream",
     "text": [
      "Photonics\n",
      "Micro- and Nanoelectronics \n",
      "Content Technologies and Information Management \n",
      "A new generation of components and systems\n",
      "Advanced Computing \n",
      "Future Internet\n",
      "Robotics\n"
     ]
    }
   ],
   "source": [
    "for i in left_article:\n",
    "    print(i.text)"
   ]
  },
  {
   "cell_type": "code",
   "execution_count": 11,
   "id": "c91a71d8",
   "metadata": {},
   "outputs": [],
   "source": [
    "my_list = []\n",
    "for i in left_article:\n",
    "    article = i.string\n",
    "    my_list.append(article)"
   ]
  },
  {
   "cell_type": "code",
   "execution_count": 13,
   "id": "74bb5f9e",
   "metadata": {},
   "outputs": [
    {
     "data": {
      "text/plain": [
       "'Photonics,Micro- and Nanoelectronics ,Content Technologies and Information Management ,A new generation of components and systems,Advanced Computing ,Future Internet,Robotics'"
      ]
     },
     "execution_count": 13,
     "metadata": {},
     "output_type": "execute_result"
    }
   ],
   "source": [
    "contents = ','.join([str(elem) for elem in my_list])\n",
    "contents"
   ]
  },
  {
   "cell_type": "markdown",
   "id": "8ab5318a",
   "metadata": {},
   "source": [
    "**article_header**"
   ]
  },
  {
   "cell_type": "code",
   "execution_count": 19,
   "id": "91c11c35",
   "metadata": {},
   "outputs": [
    {
     "data": {
      "text/plain": [
       "'ICT underpins innovation and competitiveness across a broad range of private and public markets and sectors.'"
      ]
     },
     "execution_count": 19,
     "metadata": {},
     "output_type": "execute_result"
    }
   ],
   "source": [
    "article = soup.find('div', class_ = 'field-item even').text\n",
    "article"
   ]
  },
  {
   "cell_type": "markdown",
   "id": "7b5f2623",
   "metadata": {},
   "source": [
    "**Title**"
   ]
  },
  {
   "cell_type": "code",
   "execution_count": 15,
   "id": "ceb4014c",
   "metadata": {},
   "outputs": [],
   "source": [
    "title = soup.find('h1').string"
   ]
  },
  {
   "cell_type": "code",
   "execution_count": 17,
   "id": "79e13e2a",
   "metadata": {},
   "outputs": [],
   "source": [
    "import re\n",
    "title = re.sub('[^A-Za-z]',' ', title)"
   ]
  },
  {
   "cell_type": "code",
   "execution_count": 18,
   "id": "84817327",
   "metadata": {},
   "outputs": [
    {
     "data": {
      "text/plain": [
       "' Information and Communication Technologies '"
      ]
     },
     "execution_count": 18,
     "metadata": {},
     "output_type": "execute_result"
    }
   ],
   "source": [
    "title = title.replace('   ', '')\n",
    "title"
   ]
  },
  {
   "cell_type": "code",
   "execution_count": 20,
   "id": "89f39c22",
   "metadata": {},
   "outputs": [
    {
     "data": {
      "text/plain": [
       "' Information and Communication Technologies  .ICT underpins innovation and competitiveness across a broad range of private and public markets and sectors..Photonics,Micro- and Nanoelectronics ,Content Technologies and Information Management ,A new generation of components and systems,Advanced Computing ,Future Internet,Robotics.The potential and capabilities of modern ICT systems are still growing exponentially fuelled by the progress in electronics, microsystems, networking, the ability to master increasingly complex cyber-physical systems and robots, and progress in data processing and human machine interfaces. These developments provide major opportunities for Europe to develop the next generation of open platforms on top of which a multiplicity of innovative devices, systems and applications can be implemented. These new solutions will enable a wealth of new business developments in particular for SMEs, and will contribute to boosting competitiveness, creating jobs and supporting growth. The first ICT-Leadership in Enabling and Industrial\\xa0Technologies (LEIT)\\xa0Work Programme under H2020 provides a balanced response to the main challenges faced by Europe in the field: firstly, the need to maintain a strong expertise in key technology value chains; secondly, the necessity to move quicker from research excellence to the market. It combines a strong support to industrial roadmaps with new mechanisms to encourage disruptive innovation. The former will reinforce medium to long term commitment to industrial strategies and provide continuity and stability. The latter will offer flexibility and openness and will help develop dynamic eco-systems in which innovators can operate. Both strands will require the involvement of new actors, on one hand to exploit and leverage new technologies and on the other to initiate and drive change. Six main activity lines have been identified in the ICT-LEIT part of the Work Programme: In addition, the Work Programme features several cross-cutting topics addressing cyber-security, Internet of Things and research on a Human-centric Digital Age. All activities are complemented with support to innovation and take-up, international cooperation and a dedicated action for SMEs to propose bottom-up innovative ideas, using the SME instrument. Contact & help Related links'"
      ]
     },
     "execution_count": 20,
     "metadata": {},
     "output_type": "execute_result"
    }
   ],
   "source": [
    "# Getting all data together\n",
    "data = title + ' .' + article\n",
    "data = data+ '.' +contents\n",
    "final_data = data+ '.' +para_data\n",
    "final_data"
   ]
  },
  {
   "cell_type": "markdown",
   "id": "3a16306a",
   "metadata": {},
   "source": [
    "## Entity"
   ]
  },
  {
   "cell_type": "code",
   "execution_count": 21,
   "id": "b8e3fc37",
   "metadata": {},
   "outputs": [],
   "source": [
    "import spacy \n",
    "from spacy import displacy"
   ]
  },
  {
   "cell_type": "code",
   "execution_count": 22,
   "id": "d9b77f4d",
   "metadata": {},
   "outputs": [],
   "source": [
    "nlp = spacy.load(\"en_core_web_sm\")"
   ]
  },
  {
   "cell_type": "code",
   "execution_count": 23,
   "id": "db6fc5f3",
   "metadata": {},
   "outputs": [],
   "source": [
    "doc = nlp(final_data)"
   ]
  },
  {
   "cell_type": "code",
   "execution_count": 24,
   "id": "a1524170",
   "metadata": {},
   "outputs": [],
   "source": [
    "entities = []\n",
    "labels = []\n",
    "\n",
    "for ent in doc.ents:\n",
    "    entities.append(ent)\n",
    "    labels.append(ent.label_)"
   ]
  },
  {
   "cell_type": "code",
   "execution_count": 25,
   "id": "d684feb5",
   "metadata": {},
   "outputs": [
    {
     "data": {
      "text/html": [
       "<div>\n",
       "<style scoped>\n",
       "    .dataframe tbody tr th:only-of-type {\n",
       "        vertical-align: middle;\n",
       "    }\n",
       "\n",
       "    .dataframe tbody tr th {\n",
       "        vertical-align: top;\n",
       "    }\n",
       "\n",
       "    .dataframe thead th {\n",
       "        text-align: right;\n",
       "    }\n",
       "</style>\n",
       "<table border=\"1\" class=\"dataframe\">\n",
       "  <thead>\n",
       "    <tr style=\"text-align: right;\">\n",
       "      <th></th>\n",
       "      <th>Entities</th>\n",
       "      <th>Labels</th>\n",
       "    </tr>\n",
       "  </thead>\n",
       "  <tbody>\n",
       "    <tr>\n",
       "      <th>0</th>\n",
       "      <td>(Photonics)</td>\n",
       "      <td>ORG</td>\n",
       "    </tr>\n",
       "    <tr>\n",
       "      <th>1</th>\n",
       "      <td>(Micro-)</td>\n",
       "      <td>PERSON</td>\n",
       "    </tr>\n",
       "    <tr>\n",
       "      <th>2</th>\n",
       "      <td>(Nanoelectronics)</td>\n",
       "      <td>ORG</td>\n",
       "    </tr>\n",
       "    <tr>\n",
       "      <th>3</th>\n",
       "      <td>(Content, Technologies, and, Information, Mana...</td>\n",
       "      <td>ORG</td>\n",
       "    </tr>\n",
       "    <tr>\n",
       "      <th>4</th>\n",
       "      <td>(Advanced, Computing)</td>\n",
       "      <td>PERSON</td>\n",
       "    </tr>\n",
       "    <tr>\n",
       "      <th>5</th>\n",
       "      <td>(ICT)</td>\n",
       "      <td>ORG</td>\n",
       "    </tr>\n",
       "    <tr>\n",
       "      <th>6</th>\n",
       "      <td>(Europe)</td>\n",
       "      <td>LOC</td>\n",
       "    </tr>\n",
       "    <tr>\n",
       "      <th>7</th>\n",
       "      <td>(first)</td>\n",
       "      <td>ORDINAL</td>\n",
       "    </tr>\n",
       "    <tr>\n",
       "      <th>8</th>\n",
       "      <td>(ICT)</td>\n",
       "      <td>ORG</td>\n",
       "    </tr>\n",
       "    <tr>\n",
       "      <th>9</th>\n",
       "      <td>(LEIT)</td>\n",
       "      <td>ORG</td>\n",
       "    </tr>\n",
       "    <tr>\n",
       "      <th>10</th>\n",
       "      <td>(Europe)</td>\n",
       "      <td>LOC</td>\n",
       "    </tr>\n",
       "    <tr>\n",
       "      <th>11</th>\n",
       "      <td>(firstly)</td>\n",
       "      <td>ORDINAL</td>\n",
       "    </tr>\n",
       "    <tr>\n",
       "      <th>12</th>\n",
       "      <td>(secondly)</td>\n",
       "      <td>ORDINAL</td>\n",
       "    </tr>\n",
       "    <tr>\n",
       "      <th>13</th>\n",
       "      <td>(Six)</td>\n",
       "      <td>CARDINAL</td>\n",
       "    </tr>\n",
       "    <tr>\n",
       "      <th>14</th>\n",
       "      <td>(ICT)</td>\n",
       "      <td>ORG</td>\n",
       "    </tr>\n",
       "    <tr>\n",
       "      <th>15</th>\n",
       "      <td>(the, Work, Programme)</td>\n",
       "      <td>LAW</td>\n",
       "    </tr>\n",
       "    <tr>\n",
       "      <th>16</th>\n",
       "      <td>(Digital, Age)</td>\n",
       "      <td>ORG</td>\n",
       "    </tr>\n",
       "    <tr>\n",
       "      <th>17</th>\n",
       "      <td>(SME)</td>\n",
       "      <td>ORG</td>\n",
       "    </tr>\n",
       "  </tbody>\n",
       "</table>\n",
       "</div>"
      ],
      "text/plain": [
       "                                             Entities    Labels\n",
       "0                                         (Photonics)       ORG\n",
       "1                                            (Micro-)    PERSON\n",
       "2                                   (Nanoelectronics)       ORG\n",
       "3   (Content, Technologies, and, Information, Mana...       ORG\n",
       "4                               (Advanced, Computing)    PERSON\n",
       "5                                               (ICT)       ORG\n",
       "6                                            (Europe)       LOC\n",
       "7                                             (first)   ORDINAL\n",
       "8                                               (ICT)       ORG\n",
       "9                                              (LEIT)       ORG\n",
       "10                                           (Europe)       LOC\n",
       "11                                          (firstly)   ORDINAL\n",
       "12                                         (secondly)   ORDINAL\n",
       "13                                              (Six)  CARDINAL\n",
       "14                                              (ICT)       ORG\n",
       "15                             (the, Work, Programme)       LAW\n",
       "16                                     (Digital, Age)       ORG\n",
       "17                                              (SME)       ORG"
      ]
     },
     "execution_count": 25,
     "metadata": {},
     "output_type": "execute_result"
    }
   ],
   "source": [
    "df = pd.DataFrame({'Entities':entities,'Labels':labels})\n",
    "df"
   ]
  },
  {
   "cell_type": "markdown",
   "id": "889ccd83",
   "metadata": {},
   "source": [
    "## Key-Phrases"
   ]
  },
  {
   "cell_type": "code",
   "execution_count": 26,
   "id": "16125a83",
   "metadata": {},
   "outputs": [],
   "source": [
    "from collections import Counter\n",
    "from string import punctuation\n",
    "\n",
    "def key_phrases(text):\n",
    "    result = []\n",
    "    pos_tag = ['NOUN', 'ADJ', 'NOUN']\n",
    "    doc = nlp(text.lower())\n",
    "    \n",
    "    for token in doc:\n",
    "        if(token.text in nlp.Defaults.stop_words or token.text in punctuation):\n",
    "            continue\n",
    "            \n",
    "        if(token.pos_ in pos_tag):\n",
    "            result.append(token.text)\n",
    "            \n",
    "    return result"
   ]
  },
  {
   "cell_type": "code",
   "execution_count": 27,
   "id": "ef6a9166",
   "metadata": {},
   "outputs": [],
   "source": [
    "Key_Phrases = key_phrases(final_data)"
   ]
  },
  {
   "cell_type": "code",
   "execution_count": 28,
   "id": "1efc4260",
   "metadata": {},
   "outputs": [
    {
     "name": "stdout",
     "output_type": "stream",
     "text": [
      "['information', 'communication', 'technologies', 'innovation', 'competitiveness', 'broad', 'range', 'private', 'public', 'markets', 'sectors', 'photonics', 'micro-', 'nanoelectronics', 'content', 'technologies', 'information', 'management', 'new', 'generation', 'components', 'systems', 'advanced', 'computing', 'future', 'internet', 'potential', 'capabilities', 'modern', 'ict', 'systems', 'progress', 'electronics', 'microsystems', 'networking', 'ability', 'complex', 'cyber', 'physical', 'systems', 'robots', 'data', 'processing', 'human', 'machine', 'interfaces', 'developments', 'major', 'opportunities', 'generation', 'open', 'platforms', 'multiplicity', 'innovative', 'devices', 'systems', 'applications', 'new', 'solutions', 'wealth', 'new', 'business', 'developments', 'particular', 'smes', 'competitiveness', 'jobs', 'growth', 'ict', 'leadership', 'industrial', 'technologies', 'leit', 'work', 'programme', 'h2020', 'balanced', 'response', 'main', 'challenges', 'field', 'need', 'strong', 'expertise', 'key', 'technology', 'value', 'chains', 'necessity', 'research', 'excellence', 'market', 'strong', 'support', 'industrial', 'roadmaps', 'new', 'mechanisms', 'disruptive', 'innovation', 'medium', 'long', 'term', 'commitment', 'industrial', 'strategies', 'continuity', 'stability', 'flexibility', 'openness', 'dynamic', 'eco', 'systems', 'innovators', 'strands', 'involvement', 'new', 'actors', 'hand', 'new', 'technologies', 'change', 'main', 'activity', 'lines', 'ict', 'leit', 'work', 'programme', 'addition', 'work', 'programme', 'cross', 'topics', 'cyber', 'security', 'internet', 'things', 'research', 'human', 'centric', 'digital', 'age', 'activities', 'support', 'innovation', 'international', 'cooperation', 'dedicated', 'action', 'smes', 'innovative', 'ideas', 'instrument', 'contact', 'related', 'links']\n"
     ]
    }
   ],
   "source": [
    "print(Key_Phrases)"
   ]
  },
  {
   "cell_type": "markdown",
   "id": "19b131b5",
   "metadata": {},
   "source": [
    "## Sentiment Analysis"
   ]
  },
  {
   "cell_type": "code",
   "execution_count": 29,
   "id": "0c70088c",
   "metadata": {},
   "outputs": [],
   "source": [
    "import nltk.data\n",
    "from nltk.sentiment.vader import SentimentIntensityAnalyzer\n",
    "from nltk import sentiment\n",
    "from nltk import word_tokenize"
   ]
  },
  {
   "cell_type": "code",
   "execution_count": 30,
   "id": "e8f710f4",
   "metadata": {},
   "outputs": [],
   "source": [
    "# Next, we initialize VADER so we can use it within our Python script\n",
    "sid = SentimentIntensityAnalyzer()"
   ]
  },
  {
   "cell_type": "code",
   "execution_count": 31,
   "id": "95e655a9",
   "metadata": {},
   "outputs": [],
   "source": [
    "# We will also initialize our 'english.pickle' function and give it a short name\n",
    "\n",
    "tokenizer = nltk.data.load('tokenizers/punkt/english.pickle')"
   ]
  },
  {
   "cell_type": "code",
   "execution_count": 32,
   "id": "1321fb5a",
   "metadata": {},
   "outputs": [],
   "source": [
    "message_text = final_data"
   ]
  },
  {
   "cell_type": "code",
   "execution_count": 33,
   "id": "2dff0328",
   "metadata": {},
   "outputs": [],
   "source": [
    "#sentence tokenizing our data\n",
    "sentences = tokenizer.tokenize(message_text)\n"
   ]
  },
  {
   "cell_type": "code",
   "execution_count": 34,
   "id": "f4d413a3",
   "metadata": {},
   "outputs": [
    {
     "name": "stdout",
     "output_type": "stream",
     "text": [
      " Information and Communication Technologies  .ICT underpins innovation and competitiveness across a broad range of private and public markets and sectors..Photonics,Micro- and Nanoelectronics ,Content Technologies and Information Management ,A new generation of components and systems,Advanced Computing ,Future Internet,Robotics.The potential and capabilities of modern ICT systems are still growing exponentially fuelled by the progress in electronics, microsystems, networking, the ability to master increasingly complex cyber-physical systems and robots, and progress in data processing and human machine interfaces.\n",
      "compound: 0.8807, neg: 0.0, neu: 0.85, pos: 0.15, \n",
      "These developments provide major opportunities for Europe to develop the next generation of open platforms on top of which a multiplicity of innovative devices, systems and applications can be implemented.\n",
      "compound: 0.743, neg: 0.0, neu: 0.781, pos: 0.219, \n",
      "These new solutions will enable a wealth of new business developments in particular for SMEs, and will contribute to boosting competitiveness, creating jobs and supporting growth.\n",
      "compound: 0.9186, neg: 0.0, neu: 0.559, pos: 0.441, \n",
      "The first ICT-Leadership in Enabling and Industrial Technologies (LEIT) Work Programme under H2020 provides a balanced response to the main challenges faced by Europe in the field: firstly, the need to maintain a strong expertise in key technology value chains; secondly, the necessity to move quicker from research excellence to the market.\n",
      "compound: 0.8779, neg: 0.0, neu: 0.806, pos: 0.194, \n",
      "It combines a strong support to industrial roadmaps with new mechanisms to encourage disruptive innovation.\n",
      "compound: 0.8625, neg: 0.099, neu: 0.388, pos: 0.513, \n",
      "The former will reinforce medium to long term commitment to industrial strategies and provide continuity and stability.\n",
      "compound: 0.3818, neg: 0.0, neu: 0.86, pos: 0.14, \n",
      "The latter will offer flexibility and openness and will help develop dynamic eco-systems in which innovators can operate.\n",
      "compound: 0.8442, neg: 0.0, neu: 0.581, pos: 0.419, \n",
      "Both strands will require the involvement of new actors, on one hand to exploit and leverage new technologies and on the other to initiate and drive change.\n",
      "compound: 0.4215, neg: 0.047, neu: 0.845, pos: 0.108, \n",
      "Six main activity lines have been identified in the ICT-LEIT part of the Work Programme: In addition, the Work Programme features several cross-cutting topics addressing cyber-security, Internet of Things and research on a Human-centric Digital Age.\n",
      "compound: 0.0, neg: 0.0, neu: 1.0, pos: 0.0, \n",
      "All activities are complemented with support to innovation and take-up, international cooperation and a dedicated action for SMEs to propose bottom-up innovative ideas, using the SME instrument.\n",
      "compound: 0.8807, neg: 0.0, neu: 0.663, pos: 0.337, \n",
      "Contact & help Related links\n",
      "compound: 0.4019, neg: 0.0, neu: 0.526, pos: 0.474, \n"
     ]
    }
   ],
   "source": [
    "for sentence in sentences:\n",
    "        print(sentence)\n",
    "        scores = sid.polarity_scores(sentence)\n",
    "        for key in sorted(scores):\n",
    "                print('{0}: {1}, '.format(key, scores[key]), end='')\n",
    "        print()\n"
   ]
  },
  {
   "cell_type": "markdown",
   "id": "61e211a1",
   "metadata": {},
   "source": [
    "## Thank You!!"
   ]
  }
 ],
 "metadata": {
  "kernelspec": {
   "display_name": "Python 3",
   "language": "python",
   "name": "python3"
  },
  "language_info": {
   "codemirror_mode": {
    "name": "ipython",
    "version": 3
   },
   "file_extension": ".py",
   "mimetype": "text/x-python",
   "name": "python",
   "nbconvert_exporter": "python",
   "pygments_lexer": "ipython3",
   "version": "3.9.0"
  }
 },
 "nbformat": 4,
 "nbformat_minor": 5
}
